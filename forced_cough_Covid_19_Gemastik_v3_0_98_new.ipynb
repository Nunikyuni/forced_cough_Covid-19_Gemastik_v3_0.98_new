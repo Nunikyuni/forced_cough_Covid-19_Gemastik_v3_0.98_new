{
  "nbformat": 4,
  "nbformat_minor": 0,
  "metadata": {
    "colab": {
      "name": "forced_cough_Covid-19_Gemastik_v3_0.98_new.ipynb",
      "provenance": [],
      "include_colab_link": true
    },
    "kernelspec": {
      "name": "python3",
      "display_name": "Python 3"
    },
    "language_info": {
      "name": "python"
    }
  },
  "cells": [
    {
      "cell_type": "markdown",
      "metadata": {
        "id": "view-in-github",
        "colab_type": "text"
      },
      "source": [
        "<a href=\"https://colab.research.google.com/github/Nunikyuni/forced_cough_Covid-19_Gemastik_v3_0.98_new/blob/main/forced_cough_Covid_19_Gemastik_v3_0_98_new.ipynb\" target=\"_parent\"><img src=\"https://colab.research.google.com/assets/colab-badge.svg\" alt=\"Open In Colab\"/></a>"
      ]
    },
    {
      "cell_type": "code",
      "metadata": {
        "id": "ID4-6Bhlq1F2"
      },
      "source": [
        "# feature extractoring and preprocessing data\n",
        "import librosa\n",
        "import pandas as pd\n",
        "import numpy as np\n",
        "import matplotlib.pyplot as plt\n",
        "%matplotlib inline\n",
        "import os\n",
        "from PIL import Image\n",
        "import pathlib\n",
        "import csv\n",
        "\n",
        "# Preprocessing\n",
        "from sklearn.model_selection import train_test_split\n",
        "from sklearn.preprocessing import LabelEncoder, StandardScaler\n",
        "\n",
        "import tensorflow as tf\n",
        "\n",
        "#Keras\n",
        "import keras\n",
        "\n",
        "import warnings\n",
        "warnings.filterwarnings('ignore')\n",
        "\n",
        "from sklearn.preprocessing import LabelEncoder, scale, StandardScaler\n",
        "from sklearn.model_selection import train_test_split\n",
        "from sklearn.metrics import classification_report, confusion_matrix, accuracy_score\n",
        "from sklearn.decomposition import PCA\n",
        "from sklearn.linear_model import LogisticRegression\n",
        "# from keras.utils import to_categorical\n",
        "from keras.models import Sequential, Model, load_model\n",
        "# from keras.layers.normalization import BatchNormalization\n",
        "from keras.layers import Dense, Dropout, Activation, Flatten\n",
        "from keras.layers import Convolution2D, Conv2D, MaxPooling2D, GlobalAveragePooling2D, UpSampling2D, Input\n",
        "# from keras.optimizers import Adam\n",
        "from keras.utils import np_utils\n",
        "from keras.callbacks import ModelCheckpoint, EarlyStopping, ReduceLROnPlateau\n",
        "from keras import optimizers\n",
        "from keras.regularizers import l1\n",
        "from keras.utils.vis_utils import plot_model\n",
        "from datetime import datetime\n",
        "from sklearn import metrics\n",
        "import librosa, librosa.display, os, csv\n",
        "import pandas as pd\n",
        "import numpy as np\n",
        "import matplotlib\n",
        "import matplotlib.pyplot as plt\n",
        "import pylab\n",
        "plt.switch_backend('agg')\n",
        "import itertools\n",
        "import scipy as sp\n",
        "from scipy import signal\n",
        "import xgboost as xgb\n",
        "import joblib\n",
        "from glob import glob\n",
        "import urllib\n",
        "from tensorflow.keras.models import Sequential\n",
        "from tensorflow.keras.layers import Conv2D, Flatten, Dense, MaxPool2D, Dropout\n",
        "from tensorflow.keras.utils import to_categorical \n",
        "\n",
        "from sklearn.ensemble import RandomForestClassifier\n",
        "from sklearn.svm import SVC\n",
        "\n",
        "# Basic Libraries\n",
        "\n",
        "import pandas as pd\n",
        "import numpy as np\n",
        "\n",
        "pd.plotting.register_matplotlib_converters()\n",
        "import matplotlib.pyplot as plt\n",
        "%matplotlib inline\n",
        "import seaborn as sns\n",
        "\n",
        "from sklearn.model_selection import train_test_split\n",
        "from sklearn.metrics import classification_report\n",
        "from sklearn.model_selection import GridSearchCV\n",
        "\n",
        "from sklearn.preprocessing import MinMaxScaler"
      ],
      "execution_count": 1,
      "outputs": []
    },
    {
      "cell_type": "markdown",
      "metadata": {
        "id": "pLlsVK6PpMEp"
      },
      "source": [
        "Connecting Kaggle to Collab to accsess dataset "
      ]
    },
    {
      "cell_type": "code",
      "metadata": {
        "colab": {
          "resources": {
            "http://localhost:8080/nbextensions/google.colab/files.js": {
              "data": "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",
              "ok": true,
              "headers": [
                [
                  "content-type",
                  "application/javascript"
                ]
              ],
              "status": 200,
              "status_text": ""
            }
          },
          "base_uri": "https://localhost:8080/",
          "height": 92
        },
        "id": "oTDFyeo6oZr4",
        "outputId": "af2e7327-7cd5-4f2f-b2af-adbb0576b935"
      },
      "source": [
        "!pip install -q kaggle\n",
        "from google.colab import files\n",
        "\n",
        "files.upload()"
      ],
      "execution_count": 2,
      "outputs": [
        {
          "output_type": "display_data",
          "data": {
            "text/html": [
              "\n",
              "     <input type=\"file\" id=\"files-6f9d5c27-aa48-4e3e-851f-828a36669458\" name=\"files[]\" multiple disabled\n",
              "        style=\"border:none\" />\n",
              "     <output id=\"result-6f9d5c27-aa48-4e3e-851f-828a36669458\">\n",
              "      Upload widget is only available when the cell has been executed in the\n",
              "      current browser session. Please rerun this cell to enable.\n",
              "      </output>\n",
              "      <script src=\"/nbextensions/google.colab/files.js\"></script> "
            ],
            "text/plain": [
              "<IPython.core.display.HTML object>"
            ]
          },
          "metadata": {}
        },
        {
          "output_type": "stream",
          "name": "stdout",
          "text": [
            "Saving kaggle.json to kaggle.json\n"
          ]
        },
        {
          "output_type": "execute_result",
          "data": {
            "text/plain": [
              "{'kaggle.json': b'{\"username\":\"wahyuniindraswari\",\"key\":\"06b06a1119c46fbf0130ce10e0e1c3d4\"}'}"
            ]
          },
          "metadata": {},
          "execution_count": 2
        }
      ]
    },
    {
      "cell_type": "code",
      "metadata": {
        "colab": {
          "base_uri": "https://localhost:8080/"
        },
        "id": "rfkJInOIpVzB",
        "outputId": "ce4f0271-0fd3-4926-fefe-1894fb3694c6"
      },
      "source": [
        "!mkdir ~/.kaggle\n",
        "!mv kaggle.json ~/.kaggle\n",
        "!chmod 600 ~/.kaggle/kaggle.json"
      ],
      "execution_count": 3,
      "outputs": [
        {
          "output_type": "stream",
          "name": "stdout",
          "text": [
            "mkdir: cannot create directory ‘/root/.kaggle’: File exists\n"
          ]
        }
      ]
    },
    {
      "cell_type": "code",
      "metadata": {
        "colab": {
          "base_uri": "https://localhost:8080/"
        },
        "id": "tTA46BozpYNT",
        "outputId": "5236c4b9-3fd1-4bbb-bef2-f5a196a04d65"
      },
      "source": [
        "!kaggle datasets list -s 'COVID-19 Cough Recordings'"
      ],
      "execution_count": 4,
      "outputs": [
        {
          "output_type": "stream",
          "name": "stdout",
          "text": [
            "Warning: Looks like you're using an outdated API Version, please consider updating (server 1.5.12 / client 1.5.4)\n",
            "ref                                           title                                size  lastUpdated          downloadCount  \n",
            "--------------------------------------------  -----------------------------------  ----  -------------------  -------------  \n",
            "himanshu007121/coughclassifier-trial          COVID-19 Cough Recordings            95MB  2021-06-08 13:06:01            792  \n",
            "andrewmvd/covid19-cough-audio-classification  Covid-19 Cough Audio Classification   1GB  2021-07-26 05:20:02            423  \n",
            "nasrulhakim86/coughvid-wav                    COUGHVID dataset                      9GB  2021-08-30 04:00:40             33  \n"
          ]
        }
      ]
    },
    {
      "cell_type": "code",
      "metadata": {
        "colab": {
          "base_uri": "https://localhost:8080/"
        },
        "id": "_MNxudU5pi4U",
        "outputId": "f7e0a22d-725f-4f3a-e92b-de47e25d5bb8"
      },
      "source": [
        "!kaggle datasets download -d 'himanshu007121/coughclassifier-trial'"
      ],
      "execution_count": 5,
      "outputs": [
        {
          "output_type": "stream",
          "name": "stdout",
          "text": [
            "Downloading coughclassifier-trial.zip to /content\n",
            " 81% 77.0M/94.9M [00:01<00:00, 39.9MB/s]\n",
            "100% 94.9M/94.9M [00:01<00:00, 63.3MB/s]\n"
          ]
        }
      ]
    },
    {
      "cell_type": "code",
      "metadata": {
        "id": "fgocV1q0pjoF"
      },
      "source": [
        "import zipfile,os,shutil"
      ],
      "execution_count": 6,
      "outputs": []
    },
    {
      "cell_type": "code",
      "metadata": {
        "id": "7GejfqKjpljl"
      },
      "source": [
        "fileZip = \"coughclassifier-trial.zip\"\n",
        "extracZip = zipfile.ZipFile(fileZip, 'r')\n",
        "extracZip.extractall(\"datasets\")"
      ],
      "execution_count": 7,
      "outputs": []
    },
    {
      "cell_type": "code",
      "metadata": {
        "colab": {
          "base_uri": "https://localhost:8080/",
          "height": 424
        },
        "id": "z8BKJQRJpnM3",
        "outputId": "46a8166a-a5a1-4f03-933b-801a4b8603e0"
      },
      "source": [
        "#Loading CSV file\n",
        "train_csv = pd.read_csv(\"../content/datasets/cough_trial_extended.csv\")\n",
        "# dataset = \"../input/coughclassifier-trial/cough_trial_extended.csv\"\n",
        "train_csv"
      ],
      "execution_count": 8,
      "outputs": [
        {
          "output_type": "execute_result",
          "data": {
            "text/html": [
              "<div>\n",
              "<style scoped>\n",
              "    .dataframe tbody tr th:only-of-type {\n",
              "        vertical-align: middle;\n",
              "    }\n",
              "\n",
              "    .dataframe tbody tr th {\n",
              "        vertical-align: top;\n",
              "    }\n",
              "\n",
              "    .dataframe thead th {\n",
              "        text-align: right;\n",
              "    }\n",
              "</style>\n",
              "<table border=\"1\" class=\"dataframe\">\n",
              "  <thead>\n",
              "    <tr style=\"text-align: right;\">\n",
              "      <th></th>\n",
              "      <th>file_properties</th>\n",
              "      <th>class</th>\n",
              "    </tr>\n",
              "  </thead>\n",
              "  <tbody>\n",
              "    <tr>\n",
              "      <th>0</th>\n",
              "      <td>0v8MGxNetjg_ 10.000_ 20.000.wav</td>\n",
              "      <td>not_covid</td>\n",
              "    </tr>\n",
              "    <tr>\n",
              "      <th>1</th>\n",
              "      <td>1j1duoxdxBg_ 70.000_ 80.000.wav</td>\n",
              "      <td>not_covid</td>\n",
              "    </tr>\n",
              "    <tr>\n",
              "      <th>2</th>\n",
              "      <td>1MSYO4wgiag_ 120.000_ 130.000.wav</td>\n",
              "      <td>not_covid</td>\n",
              "    </tr>\n",
              "    <tr>\n",
              "      <th>3</th>\n",
              "      <td>1PajbAKd8Kg_ 0.000_ 10.000.wav</td>\n",
              "      <td>not_covid</td>\n",
              "    </tr>\n",
              "    <tr>\n",
              "      <th>4</th>\n",
              "      <td>cov1.wav</td>\n",
              "      <td>covid</td>\n",
              "    </tr>\n",
              "    <tr>\n",
              "      <th>...</th>\n",
              "      <td>...</td>\n",
              "      <td>...</td>\n",
              "    </tr>\n",
              "    <tr>\n",
              "      <th>165</th>\n",
              "      <td>-bZrDCS8KAg_ 70.000_ 80.000.wav</td>\n",
              "      <td>not_covid</td>\n",
              "    </tr>\n",
              "    <tr>\n",
              "      <th>166</th>\n",
              "      <td>-ej81N6Aqo4_ 0.000_ 8.000.wav</td>\n",
              "      <td>not_covid</td>\n",
              "    </tr>\n",
              "    <tr>\n",
              "      <th>167</th>\n",
              "      <td>-gvLnl1smfs_ 90.000_ 100.000.wav</td>\n",
              "      <td>not_covid</td>\n",
              "    </tr>\n",
              "    <tr>\n",
              "      <th>168</th>\n",
              "      <td>-hu5q-Nn4BM_ 70.000_ 80.000.wav</td>\n",
              "      <td>not_covid</td>\n",
              "    </tr>\n",
              "    <tr>\n",
              "      <th>169</th>\n",
              "      <td>-jLQkyDhIxw_ 10.000_ 20.000.wav</td>\n",
              "      <td>not_covid</td>\n",
              "    </tr>\n",
              "  </tbody>\n",
              "</table>\n",
              "<p>170 rows × 2 columns</p>\n",
              "</div>"
            ],
            "text/plain": [
              "                       file_properties      class\n",
              "0      0v8MGxNetjg_ 10.000_ 20.000.wav  not_covid\n",
              "1      1j1duoxdxBg_ 70.000_ 80.000.wav  not_covid\n",
              "2    1MSYO4wgiag_ 120.000_ 130.000.wav  not_covid\n",
              "3       1PajbAKd8Kg_ 0.000_ 10.000.wav  not_covid\n",
              "4                             cov1.wav      covid\n",
              "..                                 ...        ...\n",
              "165    -bZrDCS8KAg_ 70.000_ 80.000.wav  not_covid\n",
              "166      -ej81N6Aqo4_ 0.000_ 8.000.wav  not_covid\n",
              "167   -gvLnl1smfs_ 90.000_ 100.000.wav  not_covid\n",
              "168    -hu5q-Nn4BM_ 70.000_ 80.000.wav  not_covid\n",
              "169    -jLQkyDhIxw_ 10.000_ 20.000.wav  not_covid\n",
              "\n",
              "[170 rows x 2 columns]"
            ]
          },
          "metadata": {},
          "execution_count": 8
        }
      ]
    },
    {
      "cell_type": "code",
      "metadata": {
        "colab": {
          "base_uri": "https://localhost:8080/"
        },
        "id": "ZEukTCIfqXqO",
        "outputId": "d822eac2-47f5-4fa8-9045-1f9e2225846d"
      },
      "source": [
        "train_csv['class'].unique()"
      ],
      "execution_count": 9,
      "outputs": [
        {
          "output_type": "execute_result",
          "data": {
            "text/plain": [
              "array(['not_covid', 'covid'], dtype=object)"
            ]
          },
          "metadata": {},
          "execution_count": 9
        }
      ]
    },
    {
      "cell_type": "code",
      "metadata": {
        "colab": {
          "base_uri": "https://localhost:8080/",
          "height": 35
        },
        "id": "YEIq7PbbqZ5h",
        "outputId": "70bc4356-b11b-4d5f-a26d-1c56a9f3a7d6"
      },
      "source": [
        "cmap = plt.get_cmap('inferno')\n",
        "tot_rows = train_csv.shape[0]\n",
        "for i in range(tot_rows):\n",
        "    source = train_csv['file_properties'][i]\n",
        "    filename = '../content/datasets/trial_covid/'+source\n",
        "    y,sr = librosa.load(filename, mono=True, duration=5)\n",
        "    plt.specgram(y, NFFT=2048, Fs=2, Fc=0, noverlap=128, cmap=cmap, sides='default', mode='default', scale='dB');\n",
        "    plt.axis('off');\n",
        "    plt.savefig(f'./{source[:-3].replace(\".\", \"\")}.png')\n",
        "    plt.clf()"
      ],
      "execution_count": 10,
      "outputs": [
        {
          "output_type": "display_data",
          "data": {
            "text/plain": [
              "<Figure size 432x288 with 0 Axes>"
            ]
          },
          "metadata": {}
        }
      ]
    },
    {
      "cell_type": "code",
      "metadata": {
        "colab": {
          "base_uri": "https://localhost:8080/"
        },
        "id": "hhm1Cr3Erbsc",
        "outputId": "0550ef06-9ef2-4033-9f77-806ce6f87aae"
      },
      "source": [
        "train_csv.shape"
      ],
      "execution_count": 11,
      "outputs": [
        {
          "output_type": "execute_result",
          "data": {
            "text/plain": [
              "(170, 2)"
            ]
          },
          "metadata": {},
          "execution_count": 11
        }
      ]
    },
    {
      "cell_type": "markdown",
      "metadata": {
        "id": "qrib1Y9xr0ZI"
      },
      "source": [
        "## Extracting features from Spectrogram\n",
        "\n",
        "\n",
        "We will extract\n",
        "\n",
        "* Mel-frequency cepstral coefficients (MFCC)(20 in number)\n",
        "* Spectral Centroid,\n",
        "* Zero Crossing Rate\n",
        "* Chroma Frequencies\n",
        "* Spectral Roll-off."
      ]
    },
    {
      "cell_type": "code",
      "metadata": {
        "id": "kxjqNZLdr3jU"
      },
      "source": [
        "header = 'filename chroma_stft rmse spectral_centroid spectral_bandwidth rolloff zero_crossing_rate'\n",
        "for i in range(1, 21):\n",
        "    header += f' mfcc{i}'\n",
        "header += ' label'\n",
        "header = header.split()"
      ],
      "execution_count": 12,
      "outputs": []
    },
    {
      "cell_type": "markdown",
      "metadata": {
        "id": "Y0vMBTNDr-8d"
      },
      "source": [
        "## Writing data to csv file\n",
        "\n",
        "We write the data to a csv file"
      ]
    },
    {
      "cell_type": "code",
      "metadata": {
        "id": "ZRuK9rscr_xA"
      },
      "source": [
        "file = open('data_new_extended.csv', 'w')\n",
        "with file:\n",
        "    writer = csv.writer(file)\n",
        "    writer.writerow(header)\n",
        "for i in range(tot_rows):\n",
        "        source = train_csv['file_properties'][i]\n",
        "        file_name = '../content/datasets/trial_covid/'+source\n",
        "        y,sr = librosa.load(file_name, mono=True, duration=5)\n",
        "        chroma_stft = librosa.feature.chroma_stft(y=y, sr=sr)\n",
        "        rmse = librosa.feature.rms(y=y)\n",
        "        spec_cent = librosa.feature.spectral_centroid(y=y, sr=sr)\n",
        "        spec_bw = librosa.feature.spectral_bandwidth(y=y, sr=sr)\n",
        "        rolloff = librosa.feature.spectral_rolloff(y=y, sr=sr)\n",
        "        zcr = librosa.feature.zero_crossing_rate(y)\n",
        "        mfcc = librosa.feature.mfcc(y=y, sr=sr)\n",
        "        to_append = f'{source[:-3].replace(\".\", \"\")} {np.mean(chroma_stft)} {np.mean(rmse)} {np.mean(spec_cent)} {np.mean(spec_bw)} {np.mean(rolloff)} {np.mean(zcr)}'    \n",
        "        for e in mfcc:\n",
        "            to_append += f' {np.mean(e)}'\n",
        "        \n",
        "        file = open('data_new_extended.csv', 'a')\n",
        "        with file:\n",
        "            writer = csv.writer(file)\n",
        "            writer.writerow(to_append.split())"
      ],
      "execution_count": 13,
      "outputs": []
    },
    {
      "cell_type": "markdown",
      "metadata": {
        "id": "aLW4KyccsQp7"
      },
      "source": [
        "# Analysing the Data in Pandas"
      ]
    },
    {
      "cell_type": "code",
      "metadata": {
        "colab": {
          "base_uri": "https://localhost:8080/",
          "height": 444
        },
        "id": "ie0UoAs_sSKw",
        "outputId": "08656561-b046-4bc1-9619-93d69f9d09fd"
      },
      "source": [
        "data = pd.read_csv('../content/datasets/data_new_extended.csv')\n",
        "data"
      ],
      "execution_count": 14,
      "outputs": [
        {
          "output_type": "execute_result",
          "data": {
            "text/html": [
              "<div>\n",
              "<style scoped>\n",
              "    .dataframe tbody tr th:only-of-type {\n",
              "        vertical-align: middle;\n",
              "    }\n",
              "\n",
              "    .dataframe tbody tr th {\n",
              "        vertical-align: top;\n",
              "    }\n",
              "\n",
              "    .dataframe thead th {\n",
              "        text-align: right;\n",
              "    }\n",
              "</style>\n",
              "<table border=\"1\" class=\"dataframe\">\n",
              "  <thead>\n",
              "    <tr style=\"text-align: right;\">\n",
              "      <th></th>\n",
              "      <th>filename</th>\n",
              "      <th>chroma_stft</th>\n",
              "      <th>rmse</th>\n",
              "      <th>spectral_centroid</th>\n",
              "      <th>spectral_bandwidth</th>\n",
              "      <th>rolloff</th>\n",
              "      <th>zero_crossing_rate</th>\n",
              "      <th>mfcc1</th>\n",
              "      <th>mfcc2</th>\n",
              "      <th>mfcc3</th>\n",
              "      <th>mfcc4</th>\n",
              "      <th>mfcc5</th>\n",
              "      <th>mfcc6</th>\n",
              "      <th>mfcc7</th>\n",
              "      <th>mfcc8</th>\n",
              "      <th>mfcc9</th>\n",
              "      <th>mfcc10</th>\n",
              "      <th>mfcc11</th>\n",
              "      <th>mfcc12</th>\n",
              "      <th>mfcc13</th>\n",
              "      <th>mfcc14</th>\n",
              "      <th>mfcc15</th>\n",
              "      <th>mfcc16</th>\n",
              "      <th>mfcc17</th>\n",
              "      <th>mfcc18</th>\n",
              "      <th>mfcc19</th>\n",
              "      <th>mfcc20</th>\n",
              "      <th>label</th>\n",
              "    </tr>\n",
              "  </thead>\n",
              "  <tbody>\n",
              "    <tr>\n",
              "      <th>0</th>\n",
              "      <td>0v8MGxNetjg_</td>\n",
              "      <td>0.519951</td>\n",
              "      <td>0.045853</td>\n",
              "      <td>1612.895795</td>\n",
              "      <td>1411.838677</td>\n",
              "      <td>2907.580566</td>\n",
              "      <td>0.107019</td>\n",
              "      <td>-376.876007</td>\n",
              "      <td>111.017372</td>\n",
              "      <td>-31.904015</td>\n",
              "      <td>6.622254</td>\n",
              "      <td>-0.816813</td>\n",
              "      <td>-4.456445</td>\n",
              "      <td>-0.198702</td>\n",
              "      <td>-3.759593</td>\n",
              "      <td>-5.181573</td>\n",
              "      <td>-0.665209</td>\n",
              "      <td>-0.656475</td>\n",
              "      <td>-7.439712</td>\n",
              "      <td>-1.034580</td>\n",
              "      <td>-0.203084</td>\n",
              "      <td>-3.513495</td>\n",
              "      <td>-1.745704</td>\n",
              "      <td>-3.011878</td>\n",
              "      <td>-2.878482</td>\n",
              "      <td>-2.106427</td>\n",
              "      <td>-4.026825</td>\n",
              "      <td>not_covid</td>\n",
              "    </tr>\n",
              "    <tr>\n",
              "      <th>1</th>\n",
              "      <td>1j1duoxdxBg_</td>\n",
              "      <td>0.535472</td>\n",
              "      <td>0.001771</td>\n",
              "      <td>2892.087076</td>\n",
              "      <td>2467.408141</td>\n",
              "      <td>5072.664388</td>\n",
              "      <td>0.148584</td>\n",
              "      <td>-519.158447</td>\n",
              "      <td>60.781284</td>\n",
              "      <td>-13.722884</td>\n",
              "      <td>52.145428</td>\n",
              "      <td>0.051050</td>\n",
              "      <td>-2.534910</td>\n",
              "      <td>16.103621</td>\n",
              "      <td>-1.494580</td>\n",
              "      <td>4.123252</td>\n",
              "      <td>11.030884</td>\n",
              "      <td>-0.156307</td>\n",
              "      <td>-0.909972</td>\n",
              "      <td>7.216461</td>\n",
              "      <td>-1.719630</td>\n",
              "      <td>3.903021</td>\n",
              "      <td>3.653039</td>\n",
              "      <td>3.043882</td>\n",
              "      <td>2.439958</td>\n",
              "      <td>2.781968</td>\n",
              "      <td>2.195162</td>\n",
              "      <td>not_covid</td>\n",
              "    </tr>\n",
              "    <tr>\n",
              "      <th>2</th>\n",
              "      <td>1MSYO4wgiag_</td>\n",
              "      <td>0.496666</td>\n",
              "      <td>0.033657</td>\n",
              "      <td>3429.061935</td>\n",
              "      <td>2788.634413</td>\n",
              "      <td>6886.288452</td>\n",
              "      <td>0.225315</td>\n",
              "      <td>-282.297913</td>\n",
              "      <td>48.581680</td>\n",
              "      <td>-15.522367</td>\n",
              "      <td>12.710723</td>\n",
              "      <td>4.199980</td>\n",
              "      <td>-7.577727</td>\n",
              "      <td>-19.324192</td>\n",
              "      <td>-12.037646</td>\n",
              "      <td>-16.901484</td>\n",
              "      <td>13.693965</td>\n",
              "      <td>0.829615</td>\n",
              "      <td>-6.066336</td>\n",
              "      <td>-4.167640</td>\n",
              "      <td>1.017302</td>\n",
              "      <td>-0.523806</td>\n",
              "      <td>0.538693</td>\n",
              "      <td>-8.855953</td>\n",
              "      <td>-2.927977</td>\n",
              "      <td>-1.118562</td>\n",
              "      <td>-5.906227</td>\n",
              "      <td>not_covid</td>\n",
              "    </tr>\n",
              "    <tr>\n",
              "      <th>3</th>\n",
              "      <td>1PajbAKd8Kg_</td>\n",
              "      <td>0.407549</td>\n",
              "      <td>0.013452</td>\n",
              "      <td>2710.811637</td>\n",
              "      <td>2664.287550</td>\n",
              "      <td>5778.474935</td>\n",
              "      <td>0.142076</td>\n",
              "      <td>-346.857300</td>\n",
              "      <td>75.765617</td>\n",
              "      <td>-7.648193</td>\n",
              "      <td>11.362122</td>\n",
              "      <td>11.365475</td>\n",
              "      <td>1.842426</td>\n",
              "      <td>-7.957006</td>\n",
              "      <td>-4.264208</td>\n",
              "      <td>-8.283970</td>\n",
              "      <td>3.105164</td>\n",
              "      <td>-2.838680</td>\n",
              "      <td>5.053118</td>\n",
              "      <td>-0.291308</td>\n",
              "      <td>0.987186</td>\n",
              "      <td>-2.447526</td>\n",
              "      <td>3.692367</td>\n",
              "      <td>2.312328</td>\n",
              "      <td>-2.059656</td>\n",
              "      <td>-4.772599</td>\n",
              "      <td>-0.503851</td>\n",
              "      <td>not_covid</td>\n",
              "    </tr>\n",
              "    <tr>\n",
              "      <th>4</th>\n",
              "      <td>cov1</td>\n",
              "      <td>0.412697</td>\n",
              "      <td>0.059004</td>\n",
              "      <td>1555.648634</td>\n",
              "      <td>1418.599932</td>\n",
              "      <td>2870.737092</td>\n",
              "      <td>0.133998</td>\n",
              "      <td>-340.588013</td>\n",
              "      <td>104.156700</td>\n",
              "      <td>-32.228443</td>\n",
              "      <td>-13.615362</td>\n",
              "      <td>-3.029665</td>\n",
              "      <td>0.512090</td>\n",
              "      <td>-21.811838</td>\n",
              "      <td>-17.781813</td>\n",
              "      <td>-9.270074</td>\n",
              "      <td>-5.505614</td>\n",
              "      <td>-5.385944</td>\n",
              "      <td>-8.247169</td>\n",
              "      <td>0.940006</td>\n",
              "      <td>-5.701087</td>\n",
              "      <td>-6.326630</td>\n",
              "      <td>-1.080040</td>\n",
              "      <td>-1.812609</td>\n",
              "      <td>-2.518986</td>\n",
              "      <td>-3.684266</td>\n",
              "      <td>-3.564146</td>\n",
              "      <td>covid</td>\n",
              "    </tr>\n",
              "    <tr>\n",
              "      <th>...</th>\n",
              "      <td>...</td>\n",
              "      <td>...</td>\n",
              "      <td>...</td>\n",
              "      <td>...</td>\n",
              "      <td>...</td>\n",
              "      <td>...</td>\n",
              "      <td>...</td>\n",
              "      <td>...</td>\n",
              "      <td>...</td>\n",
              "      <td>...</td>\n",
              "      <td>...</td>\n",
              "      <td>...</td>\n",
              "      <td>...</td>\n",
              "      <td>...</td>\n",
              "      <td>...</td>\n",
              "      <td>...</td>\n",
              "      <td>...</td>\n",
              "      <td>...</td>\n",
              "      <td>...</td>\n",
              "      <td>...</td>\n",
              "      <td>...</td>\n",
              "      <td>...</td>\n",
              "      <td>...</td>\n",
              "      <td>...</td>\n",
              "      <td>...</td>\n",
              "      <td>...</td>\n",
              "      <td>...</td>\n",
              "      <td>...</td>\n",
              "    </tr>\n",
              "    <tr>\n",
              "      <th>165</th>\n",
              "      <td>#NAME?</td>\n",
              "      <td>0.492974</td>\n",
              "      <td>0.005093</td>\n",
              "      <td>1600.647469</td>\n",
              "      <td>2300.999728</td>\n",
              "      <td>3660.644531</td>\n",
              "      <td>0.047815</td>\n",
              "      <td>-543.776916</td>\n",
              "      <td>119.100296</td>\n",
              "      <td>23.902969</td>\n",
              "      <td>23.709490</td>\n",
              "      <td>8.697512</td>\n",
              "      <td>10.839913</td>\n",
              "      <td>1.680631</td>\n",
              "      <td>7.781387</td>\n",
              "      <td>1.686800</td>\n",
              "      <td>3.687685</td>\n",
              "      <td>-2.675646</td>\n",
              "      <td>-1.250754</td>\n",
              "      <td>-2.634280</td>\n",
              "      <td>1.647435</td>\n",
              "      <td>0.647164</td>\n",
              "      <td>1.602689</td>\n",
              "      <td>-2.469729</td>\n",
              "      <td>0.704325</td>\n",
              "      <td>-5.352920</td>\n",
              "      <td>-1.281080</td>\n",
              "      <td>not_covid</td>\n",
              "    </tr>\n",
              "    <tr>\n",
              "      <th>166</th>\n",
              "      <td>#NAME?</td>\n",
              "      <td>0.400283</td>\n",
              "      <td>0.052132</td>\n",
              "      <td>2664.129566</td>\n",
              "      <td>2563.440387</td>\n",
              "      <td>5518.182373</td>\n",
              "      <td>0.121514</td>\n",
              "      <td>-290.840607</td>\n",
              "      <td>85.514412</td>\n",
              "      <td>-10.986873</td>\n",
              "      <td>10.970556</td>\n",
              "      <td>1.218062</td>\n",
              "      <td>9.801715</td>\n",
              "      <td>0.316855</td>\n",
              "      <td>-7.225134</td>\n",
              "      <td>-2.831453</td>\n",
              "      <td>2.981585</td>\n",
              "      <td>-8.843078</td>\n",
              "      <td>-4.629812</td>\n",
              "      <td>-7.424622</td>\n",
              "      <td>-4.511141</td>\n",
              "      <td>-7.482200</td>\n",
              "      <td>-4.865530</td>\n",
              "      <td>-6.353733</td>\n",
              "      <td>-5.024187</td>\n",
              "      <td>-8.422812</td>\n",
              "      <td>-0.831208</td>\n",
              "      <td>not_covid</td>\n",
              "    </tr>\n",
              "    <tr>\n",
              "      <th>167</th>\n",
              "      <td>#NAME?</td>\n",
              "      <td>0.704281</td>\n",
              "      <td>0.058739</td>\n",
              "      <td>3090.031219</td>\n",
              "      <td>2740.856272</td>\n",
              "      <td>6530.841064</td>\n",
              "      <td>0.179077</td>\n",
              "      <td>-75.595451</td>\n",
              "      <td>68.849228</td>\n",
              "      <td>-11.665833</td>\n",
              "      <td>17.189640</td>\n",
              "      <td>-4.745080</td>\n",
              "      <td>2.061405</td>\n",
              "      <td>-8.534120</td>\n",
              "      <td>5.379293</td>\n",
              "      <td>-4.747192</td>\n",
              "      <td>5.724702</td>\n",
              "      <td>-6.867559</td>\n",
              "      <td>0.677697</td>\n",
              "      <td>-7.535110</td>\n",
              "      <td>0.602187</td>\n",
              "      <td>-6.629556</td>\n",
              "      <td>0.659050</td>\n",
              "      <td>-4.125256</td>\n",
              "      <td>0.734950</td>\n",
              "      <td>-4.655417</td>\n",
              "      <td>-0.645009</td>\n",
              "      <td>not_covid</td>\n",
              "    </tr>\n",
              "    <tr>\n",
              "      <th>168</th>\n",
              "      <td>#NAME?</td>\n",
              "      <td>0.424896</td>\n",
              "      <td>0.044159</td>\n",
              "      <td>3173.872023</td>\n",
              "      <td>2482.951387</td>\n",
              "      <td>5768.306478</td>\n",
              "      <td>0.221743</td>\n",
              "      <td>-264.064514</td>\n",
              "      <td>58.729767</td>\n",
              "      <td>-7.446329</td>\n",
              "      <td>15.075655</td>\n",
              "      <td>-24.546654</td>\n",
              "      <td>-7.761268</td>\n",
              "      <td>-29.158249</td>\n",
              "      <td>1.814475</td>\n",
              "      <td>-19.110003</td>\n",
              "      <td>-9.132167</td>\n",
              "      <td>-3.354258</td>\n",
              "      <td>-0.625627</td>\n",
              "      <td>0.677355</td>\n",
              "      <td>-3.651989</td>\n",
              "      <td>-6.051375</td>\n",
              "      <td>1.211774</td>\n",
              "      <td>-14.923816</td>\n",
              "      <td>-11.180058</td>\n",
              "      <td>-8.861262</td>\n",
              "      <td>-5.078876</td>\n",
              "      <td>not_covid</td>\n",
              "    </tr>\n",
              "    <tr>\n",
              "      <th>169</th>\n",
              "      <td>#NAME?</td>\n",
              "      <td>0.434573</td>\n",
              "      <td>0.104041</td>\n",
              "      <td>3006.457898</td>\n",
              "      <td>2270.008544</td>\n",
              "      <td>5383.550008</td>\n",
              "      <td>0.225385</td>\n",
              "      <td>-113.609337</td>\n",
              "      <td>61.575649</td>\n",
              "      <td>-50.143192</td>\n",
              "      <td>13.732496</td>\n",
              "      <td>-3.861806</td>\n",
              "      <td>-16.066517</td>\n",
              "      <td>-11.147990</td>\n",
              "      <td>6.133102</td>\n",
              "      <td>-32.134663</td>\n",
              "      <td>14.278173</td>\n",
              "      <td>-8.916544</td>\n",
              "      <td>1.918063</td>\n",
              "      <td>-8.441331</td>\n",
              "      <td>2.808456</td>\n",
              "      <td>-6.152548</td>\n",
              "      <td>-4.181546</td>\n",
              "      <td>-7.060247</td>\n",
              "      <td>-0.964895</td>\n",
              "      <td>0.560492</td>\n",
              "      <td>-1.245852</td>\n",
              "      <td>not_covid</td>\n",
              "    </tr>\n",
              "  </tbody>\n",
              "</table>\n",
              "<p>170 rows × 28 columns</p>\n",
              "</div>"
            ],
            "text/plain": [
              "         filename  chroma_stft      rmse  ...    mfcc19    mfcc20      label\n",
              "0    0v8MGxNetjg_     0.519951  0.045853  ... -2.106427 -4.026825  not_covid\n",
              "1    1j1duoxdxBg_     0.535472  0.001771  ...  2.781968  2.195162  not_covid\n",
              "2    1MSYO4wgiag_     0.496666  0.033657  ... -1.118562 -5.906227  not_covid\n",
              "3    1PajbAKd8Kg_     0.407549  0.013452  ... -4.772599 -0.503851  not_covid\n",
              "4            cov1     0.412697  0.059004  ... -3.684266 -3.564146      covid\n",
              "..            ...          ...       ...  ...       ...       ...        ...\n",
              "165        #NAME?     0.492974  0.005093  ... -5.352920 -1.281080  not_covid\n",
              "166        #NAME?     0.400283  0.052132  ... -8.422812 -0.831208  not_covid\n",
              "167        #NAME?     0.704281  0.058739  ... -4.655417 -0.645009  not_covid\n",
              "168        #NAME?     0.424896  0.044159  ... -8.861262 -5.078876  not_covid\n",
              "169        #NAME?     0.434573  0.104041  ...  0.560492 -1.245852  not_covid\n",
              "\n",
              "[170 rows x 28 columns]"
            ]
          },
          "metadata": {},
          "execution_count": 14
        }
      ]
    },
    {
      "cell_type": "code",
      "metadata": {
        "colab": {
          "base_uri": "https://localhost:8080/"
        },
        "id": "CYoKKhfesy2U",
        "outputId": "48bb3ef5-c2bb-45ab-9609-9a1fcbd6d55f"
      },
      "source": [
        "data.shape"
      ],
      "execution_count": 15,
      "outputs": [
        {
          "output_type": "execute_result",
          "data": {
            "text/plain": [
              "(170, 28)"
            ]
          },
          "metadata": {},
          "execution_count": 15
        }
      ]
    },
    {
      "cell_type": "code",
      "metadata": {
        "id": "CNMgH4Gls3uL"
      },
      "source": [
        "# Dropping unneccesary columns\n",
        "data = data.drop(['filename'],axis=1)"
      ],
      "execution_count": 16,
      "outputs": []
    },
    {
      "cell_type": "markdown",
      "metadata": {
        "id": "gn73d1Wos9oo"
      },
      "source": [
        "## Encoding the Labels"
      ]
    },
    {
      "cell_type": "code",
      "metadata": {
        "id": "3vWik8nls-gK"
      },
      "source": [
        "genre_list = data.iloc[:, -1]\n",
        "encoder = LabelEncoder()\n",
        "y = encoder.fit_transform(genre_list)"
      ],
      "execution_count": 17,
      "outputs": []
    },
    {
      "cell_type": "markdown",
      "metadata": {
        "id": "hB-7xF26tG2j"
      },
      "source": [
        "## Scaling the Feature columns"
      ]
    },
    {
      "cell_type": "code",
      "metadata": {
        "id": "Wd3ki8eFtHuQ"
      },
      "source": [
        "scaler = StandardScaler()\n",
        "X = scaler.fit_transform(np.array(data.iloc[:, :-1], dtype = float))"
      ],
      "execution_count": 18,
      "outputs": []
    },
    {
      "cell_type": "markdown",
      "metadata": {
        "id": "Y3XuoeSCtMBV"
      },
      "source": [
        "## Dividing data into training and Testing set"
      ]
    },
    {
      "cell_type": "code",
      "metadata": {
        "id": "FHoCw5IttMiK"
      },
      "source": [
        "X_train, X_test, y_train, y_test = train_test_split(X, y, test_size=0.3)"
      ],
      "execution_count": 19,
      "outputs": []
    },
    {
      "cell_type": "code",
      "metadata": {
        "colab": {
          "base_uri": "https://localhost:8080/"
        },
        "id": "7aeHOVlCtQQZ",
        "outputId": "936a1a89-ea03-4692-dd42-4c8d6d74262b"
      },
      "source": [
        "X_train.shape"
      ],
      "execution_count": 20,
      "outputs": [
        {
          "output_type": "execute_result",
          "data": {
            "text/plain": [
              "(119, 26)"
            ]
          },
          "metadata": {},
          "execution_count": 20
        }
      ]
    },
    {
      "cell_type": "code",
      "metadata": {
        "colab": {
          "base_uri": "https://localhost:8080/"
        },
        "id": "pGTriWcq18Bk",
        "outputId": "1163acdc-360f-4f2c-aa7c-bf3079877333"
      },
      "source": [
        "y_test.shape"
      ],
      "execution_count": 21,
      "outputs": [
        {
          "output_type": "execute_result",
          "data": {
            "text/plain": [
              "(51,)"
            ]
          },
          "metadata": {},
          "execution_count": 21
        }
      ]
    },
    {
      "cell_type": "code",
      "metadata": {
        "colab": {
          "base_uri": "https://localhost:8080/"
        },
        "id": "9cGdeq3mtTiM",
        "outputId": "0151cc1d-55d9-4659-ac03-819fc996e0f8"
      },
      "source": [
        "X_train.shape[1]"
      ],
      "execution_count": 22,
      "outputs": [
        {
          "output_type": "execute_result",
          "data": {
            "text/plain": [
              "26"
            ]
          },
          "metadata": {},
          "execution_count": 22
        }
      ]
    },
    {
      "cell_type": "code",
      "metadata": {
        "colab": {
          "base_uri": "https://localhost:8080/"
        },
        "id": "7_bl8qCMtVPW",
        "outputId": "46472b22-e2d7-4410-ed56-f06a8ca6ee6f"
      },
      "source": [
        "y_train.shape"
      ],
      "execution_count": 23,
      "outputs": [
        {
          "output_type": "execute_result",
          "data": {
            "text/plain": [
              "(119,)"
            ]
          },
          "metadata": {},
          "execution_count": 23
        }
      ]
    },
    {
      "cell_type": "code",
      "metadata": {
        "colab": {
          "base_uri": "https://localhost:8080/"
        },
        "id": "N3jA0fSv1RNM",
        "outputId": "3bd1f3c7-a1d2-4b8a-db67-45aa8f69c890"
      },
      "source": [
        "#check image shape\n",
        "X_train[0].shape"
      ],
      "execution_count": 24,
      "outputs": [
        {
          "output_type": "execute_result",
          "data": {
            "text/plain": [
              "(26,)"
            ]
          },
          "metadata": {},
          "execution_count": 24
        }
      ]
    },
    {
      "cell_type": "code",
      "metadata": {
        "id": "skBoBaM51QWz"
      },
      "source": [
        "# #reshape data to fit model\n",
        "# X_train = X_train.reshape(119,26,26,1)\n",
        "# X_test = X_test.reshape(51,26,26,1)"
      ],
      "execution_count": 25,
      "outputs": []
    },
    {
      "cell_type": "code",
      "metadata": {
        "id": "TpwZYUCcznFb"
      },
      "source": [
        "# #one-hot encode target column\n",
        "# y_train = to_categorical(y_train)\n",
        "# y_test = to_categorical(y_test)\n",
        "# y_train[0]"
      ],
      "execution_count": 26,
      "outputs": []
    },
    {
      "cell_type": "code",
      "metadata": {
        "id": "dey1nJDK0YDi"
      },
      "source": [
        "# #create model\n",
        "# model = Sequential()\n",
        "# #add model layers\n",
        "# model.add(Conv2D(64, kernel_size=3, activation='relu', input_shape=(28,28,1)))\n",
        "# model.add(Conv2D(32, kernel_size=3, activation='relu'))\n",
        "# model.add(Flatten())\n",
        "# model.add(Dense(10, activation='softmax'))"
      ],
      "execution_count": 27,
      "outputs": []
    },
    {
      "cell_type": "code",
      "metadata": {
        "id": "idgpZni-0kBq"
      },
      "source": [
        "# model.compile(optimizer='adam', loss='categorical_crossentropy', metrics=['accuracy'])"
      ],
      "execution_count": 28,
      "outputs": []
    },
    {
      "cell_type": "code",
      "metadata": {
        "id": "LXc63Xfj0pqZ"
      },
      "source": [
        "# model.fit(X_train, y_train, validation_data=(X_test, y_test), epochs=3)"
      ],
      "execution_count": 29,
      "outputs": []
    },
    {
      "cell_type": "markdown",
      "metadata": {
        "id": "v0F3OxX2teCz"
      },
      "source": [
        "# Classification with Keras\n",
        "\n",
        "## Building our Network"
      ]
    },
    {
      "cell_type": "code",
      "metadata": {
        "colab": {
          "base_uri": "https://localhost:8080/",
          "height": 772
        },
        "id": "V0hilrQQteuQ",
        "outputId": "b8f972c8-0492-4056-8b6b-8702c5ada267"
      },
      "source": [
        "from keras import models\n",
        "from keras import layers\n",
        "\n",
        "model = models.Sequential()\n",
        "model.add(layers.Dense(512, activation='relu', input_shape=(X_train.shape[1],)))\n",
        "\n",
        "model.add(layers.Dense(256, activation='relu'))\n",
        "\n",
        "model.add(layers.Dense(128, activation='relu'))\n",
        "\n",
        "model.add(layers.Dense(64, activation='relu'))\n",
        "\n",
        "model.add(layers.Dense(10, activation='relu'))\n",
        "\n",
        "model.add(layers.Dense(2, activation='softmax'))\n",
        "\n",
        "# serialize model to JSON\n",
        "model_json = model.to_json()\n",
        "with open(\"model.json\", \"w\") as json_file:\n",
        "    json_file.write(model_json)\n",
        "# serialize weights to HDF5\n",
        "model.save_weights(\"model.h5\")\n",
        "print(\"Saved model to disk\")\n",
        "\n",
        "# plot model\n",
        "plot_model(model, to_file='model_plot.png', show_shapes=True, show_layer_names=True)"
      ],
      "execution_count": 30,
      "outputs": [
        {
          "output_type": "stream",
          "name": "stdout",
          "text": [
            "Saved model to disk\n"
          ]
        },
        {
          "output_type": "execute_result",
          "data": {
            "image/png": "[encoded data removed]",
            "text/plain": [
              "<IPython.core.display.Image object>"
            ]
          },
          "metadata": {},
          "execution_count": 30
        }
      ]
    },
    {
      "cell_type": "code",
      "metadata": {
        "colab": {
          "base_uri": "https://localhost:8080/"
        },
        "id": "HS42ZT_6tjBO",
        "outputId": "94492613-6ec3-4df9-9f4c-2122d998921d"
      },
      "source": [
        "model.summary()"
      ],
      "execution_count": 31,
      "outputs": [
        {
          "output_type": "stream",
          "name": "stdout",
          "text": [
            "Model: \"sequential\"\n",
            "_________________________________________________________________\n",
            " Layer (type)                Output Shape              Param #   \n",
            "=================================================================\n",
            " dense (Dense)               (None, 512)               13824     \n",
            "                                                                 \n",
            " dense_1 (Dense)             (None, 256)               131328    \n",
            "                                                                 \n",
            " dense_2 (Dense)             (None, 128)               32896     \n",
            "                                                                 \n",
            " dense_3 (Dense)             (None, 64)                8256      \n",
            "                                                                 \n",
            " dense_4 (Dense)             (None, 10)                650       \n",
            "                                                                 \n",
            " dense_5 (Dense)             (None, 2)                 22        \n",
            "                                                                 \n",
            "=================================================================\n",
            "Total params: 186,976\n",
            "Trainable params: 186,976\n",
            "Non-trainable params: 0\n",
            "_________________________________________________________________\n"
          ]
        }
      ]
    },
    {
      "cell_type": "code",
      "metadata": {
        "colab": {
          "base_uri": "https://localhost:8080/"
        },
        "id": "HES26CzotlXU",
        "outputId": "75c7764b-fdc5-4b26-839c-2a76df90515a"
      },
      "source": [
        "model.compile(optimizer='adam',\n",
        "              loss='sparse_categorical_crossentropy',\n",
        "              metrics=['accuracy'])\n",
        "history = model.fit(X_train,\n",
        "                    y_train,\n",
        "                    epochs=100,\n",
        "                    batch_size=128)"
      ],
      "execution_count": 32,
      "outputs": [
        {
          "output_type": "stream",
          "name": "stdout",
          "text": [
            "Epoch 1/100\n",
            "1/1 [==============================] - 1s 795ms/step - loss: 0.6584 - accuracy: 0.6303\n",
            "Epoch 2/100\n",
            "1/1 [==============================] - 0s 15ms/step - loss: 0.4586 - accuracy: 0.8739\n",
            "Epoch 3/100\n",
            "1/1 [==============================] - 0s 16ms/step - loss: 0.3710 - accuracy: 0.8739\n",
            "Epoch 4/100\n",
            "1/1 [==============================] - 0s 12ms/step - loss: 0.3153 - accuracy: 0.8739\n",
            "Epoch 5/100\n",
            "1/1 [==============================] - 0s 21ms/step - loss: 0.2762 - accuracy: 0.8739\n",
            "Epoch 6/100\n",
            "1/1 [==============================] - 0s 10ms/step - loss: 0.2440 - accuracy: 0.8739\n",
            "Epoch 7/100\n",
            "1/1 [==============================] - 0s 11ms/step - loss: 0.2115 - accuracy: 0.8739\n",
            "Epoch 8/100\n",
            "1/1 [==============================] - 0s 12ms/step - loss: 0.1807 - accuracy: 0.8739\n",
            "Epoch 9/100\n",
            "1/1 [==============================] - 0s 10ms/step - loss: 0.1557 - accuracy: 0.8739\n",
            "Epoch 10/100\n",
            "1/1 [==============================] - 0s 12ms/step - loss: 0.1403 - accuracy: 0.8739\n",
            "Epoch 11/100\n",
            "1/1 [==============================] - 0s 12ms/step - loss: 0.1316 - accuracy: 0.8739\n",
            "Epoch 12/100\n",
            "1/1 [==============================] - 0s 12ms/step - loss: 0.1240 - accuracy: 0.8739\n",
            "Epoch 13/100\n",
            "1/1 [==============================] - 0s 13ms/step - loss: 0.1161 - accuracy: 0.9076\n",
            "Epoch 14/100\n",
            "1/1 [==============================] - 0s 15ms/step - loss: 0.1088 - accuracy: 0.9496\n",
            "Epoch 15/100\n",
            "1/1 [==============================] - 0s 16ms/step - loss: 0.1028 - accuracy: 0.9412\n",
            "Epoch 16/100\n",
            "1/1 [==============================] - 0s 13ms/step - loss: 0.0977 - accuracy: 0.9496\n",
            "Epoch 17/100\n",
            "1/1 [==============================] - 0s 16ms/step - loss: 0.0941 - accuracy: 0.9664\n",
            "Epoch 18/100\n",
            "1/1 [==============================] - 0s 17ms/step - loss: 0.0912 - accuracy: 0.9580\n",
            "Epoch 19/100\n",
            "1/1 [==============================] - 0s 13ms/step - loss: 0.0890 - accuracy: 0.9748\n",
            "Epoch 20/100\n",
            "1/1 [==============================] - 0s 15ms/step - loss: 0.0872 - accuracy: 0.9916\n",
            "Epoch 21/100\n",
            "1/1 [==============================] - 0s 13ms/step - loss: 0.0861 - accuracy: 0.9916\n",
            "Epoch 22/100\n",
            "1/1 [==============================] - 0s 13ms/step - loss: 0.0852 - accuracy: 1.0000\n",
            "Epoch 23/100\n",
            "1/1 [==============================] - 0s 17ms/step - loss: 0.0845 - accuracy: 1.0000\n",
            "Epoch 24/100\n",
            "1/1 [==============================] - 0s 16ms/step - loss: 0.0837 - accuracy: 1.0000\n",
            "Epoch 25/100\n",
            "1/1 [==============================] - 0s 17ms/step - loss: 0.0831 - accuracy: 1.0000\n",
            "Epoch 26/100\n",
            "1/1 [==============================] - 0s 16ms/step - loss: 0.0824 - accuracy: 1.0000\n",
            "Epoch 27/100\n",
            "1/1 [==============================] - 0s 23ms/step - loss: 0.0816 - accuracy: 1.0000\n",
            "Epoch 28/100\n",
            "1/1 [==============================] - 0s 14ms/step - loss: 0.0808 - accuracy: 1.0000\n",
            "Epoch 29/100\n",
            "1/1 [==============================] - 0s 17ms/step - loss: 0.0799 - accuracy: 1.0000\n",
            "Epoch 30/100\n",
            "1/1 [==============================] - 0s 14ms/step - loss: 0.0789 - accuracy: 1.0000\n",
            "Epoch 31/100\n",
            "1/1 [==============================] - 0s 15ms/step - loss: 0.0778 - accuracy: 1.0000\n",
            "Epoch 32/100\n",
            "1/1 [==============================] - 0s 15ms/step - loss: 0.0765 - accuracy: 1.0000\n",
            "Epoch 33/100\n",
            "1/1 [==============================] - 0s 23ms/step - loss: 0.0752 - accuracy: 1.0000\n",
            "Epoch 34/100\n",
            "1/1 [==============================] - 0s 18ms/step - loss: 0.0736 - accuracy: 1.0000\n",
            "Epoch 35/100\n",
            "1/1 [==============================] - 0s 24ms/step - loss: 0.0719 - accuracy: 1.0000\n",
            "Epoch 36/100\n",
            "1/1 [==============================] - 0s 13ms/step - loss: 0.0699 - accuracy: 1.0000\n",
            "Epoch 37/100\n",
            "1/1 [==============================] - 0s 16ms/step - loss: 0.0678 - accuracy: 1.0000\n",
            "Epoch 38/100\n",
            "1/1 [==============================] - 0s 16ms/step - loss: 0.0653 - accuracy: 1.0000\n",
            "Epoch 39/100\n",
            "1/1 [==============================] - 0s 19ms/step - loss: 0.0626 - accuracy: 1.0000\n",
            "Epoch 40/100\n",
            "1/1 [==============================] - 0s 15ms/step - loss: 0.0597 - accuracy: 1.0000\n",
            "Epoch 41/100\n",
            "1/1 [==============================] - 0s 24ms/step - loss: 0.0565 - accuracy: 1.0000\n",
            "Epoch 42/100\n",
            "1/1 [==============================] - 0s 16ms/step - loss: 0.0530 - accuracy: 1.0000\n",
            "Epoch 43/100\n",
            "1/1 [==============================] - 0s 17ms/step - loss: 0.0490 - accuracy: 1.0000\n",
            "Epoch 44/100\n",
            "1/1 [==============================] - 0s 14ms/step - loss: 0.0449 - accuracy: 1.0000\n",
            "Epoch 45/100\n",
            "1/1 [==============================] - 0s 16ms/step - loss: 0.0405 - accuracy: 1.0000\n",
            "Epoch 46/100\n",
            "1/1 [==============================] - 0s 14ms/step - loss: 0.0361 - accuracy: 1.0000\n",
            "Epoch 47/100\n",
            "1/1 [==============================] - 0s 15ms/step - loss: 0.0316 - accuracy: 1.0000\n",
            "Epoch 48/100\n",
            "1/1 [==============================] - 0s 13ms/step - loss: 0.0270 - accuracy: 1.0000\n",
            "Epoch 49/100\n",
            "1/1 [==============================] - 0s 19ms/step - loss: 0.0227 - accuracy: 1.0000\n",
            "Epoch 50/100\n",
            "1/1 [==============================] - 0s 16ms/step - loss: 0.0186 - accuracy: 1.0000\n",
            "Epoch 51/100\n",
            "1/1 [==============================] - 0s 14ms/step - loss: 0.0149 - accuracy: 1.0000\n",
            "Epoch 52/100\n",
            "1/1 [==============================] - 0s 13ms/step - loss: 0.0117 - accuracy: 1.0000\n",
            "Epoch 53/100\n",
            "1/1 [==============================] - 0s 15ms/step - loss: 0.0091 - accuracy: 1.0000\n",
            "Epoch 54/100\n",
            "1/1 [==============================] - 0s 25ms/step - loss: 0.0070 - accuracy: 1.0000\n",
            "Epoch 55/100\n",
            "1/1 [==============================] - 0s 16ms/step - loss: 0.0053 - accuracy: 1.0000\n",
            "Epoch 56/100\n",
            "1/1 [==============================] - 0s 17ms/step - loss: 0.0041 - accuracy: 1.0000\n",
            "Epoch 57/100\n",
            "1/1 [==============================] - 0s 15ms/step - loss: 0.0031 - accuracy: 1.0000\n",
            "Epoch 58/100\n",
            "1/1 [==============================] - 0s 21ms/step - loss: 0.0024 - accuracy: 1.0000\n",
            "Epoch 59/100\n",
            "1/1 [==============================] - 0s 20ms/step - loss: 0.0018 - accuracy: 1.0000\n",
            "Epoch 60/100\n",
            "1/1 [==============================] - 0s 17ms/step - loss: 0.0014 - accuracy: 1.0000\n",
            "Epoch 61/100\n",
            "1/1 [==============================] - 0s 13ms/step - loss: 0.0011 - accuracy: 1.0000\n",
            "Epoch 62/100\n",
            "1/1 [==============================] - 0s 13ms/step - loss: 8.4386e-04 - accuracy: 1.0000\n",
            "Epoch 63/100\n",
            "1/1 [==============================] - 0s 15ms/step - loss: 6.6464e-04 - accuracy: 1.0000\n",
            "Epoch 64/100\n",
            "1/1 [==============================] - 0s 13ms/step - loss: 5.3352e-04 - accuracy: 1.0000\n",
            "Epoch 65/100\n",
            "1/1 [==============================] - 0s 17ms/step - loss: 4.3869e-04 - accuracy: 1.0000\n",
            "Epoch 66/100\n",
            "1/1 [==============================] - 0s 14ms/step - loss: 3.6814e-04 - accuracy: 1.0000\n",
            "Epoch 67/100\n",
            "1/1 [==============================] - 0s 15ms/step - loss: 3.1587e-04 - accuracy: 1.0000\n",
            "Epoch 68/100\n",
            "1/1 [==============================] - 0s 21ms/step - loss: 2.7360e-04 - accuracy: 1.0000\n",
            "Epoch 69/100\n",
            "1/1 [==============================] - 0s 29ms/step - loss: 2.3986e-04 - accuracy: 1.0000\n",
            "Epoch 70/100\n",
            "1/1 [==============================] - 0s 16ms/step - loss: 2.1230e-04 - accuracy: 1.0000\n",
            "Epoch 71/100\n",
            "1/1 [==============================] - 0s 15ms/step - loss: 1.8944e-04 - accuracy: 1.0000\n",
            "Epoch 72/100\n",
            "1/1 [==============================] - 0s 18ms/step - loss: 1.7057e-04 - accuracy: 1.0000\n",
            "Epoch 73/100\n",
            "1/1 [==============================] - 0s 22ms/step - loss: 1.5435e-04 - accuracy: 1.0000\n",
            "Epoch 74/100\n",
            "1/1 [==============================] - 0s 13ms/step - loss: 1.4077e-04 - accuracy: 1.0000\n",
            "Epoch 75/100\n",
            "1/1 [==============================] - 0s 22ms/step - loss: 1.2980e-04 - accuracy: 1.0000\n",
            "Epoch 76/100\n",
            "1/1 [==============================] - 0s 21ms/step - loss: 1.2045e-04 - accuracy: 1.0000\n",
            "Epoch 77/100\n",
            "1/1 [==============================] - 0s 21ms/step - loss: 1.1221e-04 - accuracy: 1.0000\n",
            "Epoch 78/100\n",
            "1/1 [==============================] - 0s 24ms/step - loss: 1.0490e-04 - accuracy: 1.0000\n",
            "Epoch 79/100\n",
            "1/1 [==============================] - 0s 18ms/step - loss: 9.8316e-05 - accuracy: 1.0000\n",
            "Epoch 80/100\n",
            "1/1 [==============================] - 0s 18ms/step - loss: 9.2410e-05 - accuracy: 1.0000\n",
            "Epoch 81/100\n",
            "1/1 [==============================] - 0s 17ms/step - loss: 8.7158e-05 - accuracy: 1.0000\n",
            "Epoch 82/100\n",
            "1/1 [==============================] - 0s 20ms/step - loss: 8.2601e-05 - accuracy: 1.0000\n",
            "Epoch 83/100\n",
            "1/1 [==============================] - 0s 23ms/step - loss: 7.8437e-05 - accuracy: 1.0000\n",
            "Epoch 84/100\n",
            "1/1 [==============================] - 0s 16ms/step - loss: 7.4621e-05 - accuracy: 1.0000\n",
            "Epoch 85/100\n",
            "1/1 [==============================] - 0s 10ms/step - loss: 7.1122e-05 - accuracy: 1.0000\n",
            "Epoch 86/100\n",
            "1/1 [==============================] - 0s 19ms/step - loss: 6.7904e-05 - accuracy: 1.0000\n",
            "Epoch 87/100\n",
            "1/1 [==============================] - 0s 13ms/step - loss: 6.4945e-05 - accuracy: 1.0000\n",
            "Epoch 88/100\n",
            "1/1 [==============================] - 0s 15ms/step - loss: 6.2253e-05 - accuracy: 1.0000\n",
            "Epoch 89/100\n",
            "1/1 [==============================] - 0s 13ms/step - loss: 5.9793e-05 - accuracy: 1.0000\n",
            "Epoch 90/100\n",
            "1/1 [==============================] - 0s 14ms/step - loss: 5.7518e-05 - accuracy: 1.0000\n",
            "Epoch 91/100\n",
            "1/1 [==============================] - 0s 16ms/step - loss: 5.5412e-05 - accuracy: 1.0000\n",
            "Epoch 92/100\n",
            "1/1 [==============================] - 0s 22ms/step - loss: 5.3469e-05 - accuracy: 1.0000\n",
            "Epoch 93/100\n",
            "1/1 [==============================] - 0s 17ms/step - loss: 5.1664e-05 - accuracy: 1.0000\n",
            "Epoch 94/100\n",
            "1/1 [==============================] - 0s 18ms/step - loss: 4.9977e-05 - accuracy: 1.0000\n",
            "Epoch 95/100\n",
            "1/1 [==============================] - 0s 14ms/step - loss: 4.8403e-05 - accuracy: 1.0000\n",
            "Epoch 96/100\n",
            "1/1 [==============================] - 0s 13ms/step - loss: 4.6933e-05 - accuracy: 1.0000\n",
            "Epoch 97/100\n",
            "1/1 [==============================] - 0s 18ms/step - loss: 4.5561e-05 - accuracy: 1.0000\n",
            "Epoch 98/100\n",
            "1/1 [==============================] - 0s 22ms/step - loss: 4.4274e-05 - accuracy: 1.0000\n",
            "Epoch 99/100\n",
            "1/1 [==============================] - 0s 19ms/step - loss: 4.3060e-05 - accuracy: 1.0000\n",
            "Epoch 100/100\n",
            "1/1 [==============================] - 0s 19ms/step - loss: 4.1919e-05 - accuracy: 1.0000\n"
          ]
        }
      ]
    },
    {
      "cell_type": "code",
      "metadata": {
        "colab": {
          "base_uri": "https://localhost:8080/"
        },
        "id": "aIVymYEcFhnF",
        "outputId": "2cf9735b-9116-43e8-d45f-ac5d5e7a638f"
      },
      "source": [
        "test_loss, test_acc = model.evaluate(X_test,y_test)"
      ],
      "execution_count": 33,
      "outputs": [
        {
          "output_type": "stream",
          "name": "stdout",
          "text": [
            "2/2 [==============================] - 0s 9ms/step - loss: 0.1107 - accuracy: 0.9804\n"
          ]
        }
      ]
    },
    {
      "cell_type": "code",
      "metadata": {
        "colab": {
          "base_uri": "https://localhost:8080/"
        },
        "id": "UvX5fLQhFstI",
        "outputId": "6e108df3-22b0-497c-ab18-15b968a3d682"
      },
      "source": [
        "print('test_acc: ',test_acc)"
      ],
      "execution_count": 34,
      "outputs": [
        {
          "output_type": "stream",
          "name": "stdout",
          "text": [
            "test_acc:  0.9803921580314636\n"
          ]
        }
      ]
    },
    {
      "cell_type": "code",
      "metadata": {
        "colab": {
          "base_uri": "https://localhost:8080/"
        },
        "id": "_ZfCUky1FvaS",
        "outputId": "9a3e24ca-7546-4d73-f2f1-5d11b9c54941"
      },
      "source": [
        "predictions = model.predict(X_test)\n",
        "print(predictions[0].shape)\n",
        "print(np.sum(predictions[0]))\n",
        "print(predictions[:4])\n",
        "print(y_test[:4])"
      ],
      "execution_count": 35,
      "outputs": [
        {
          "output_type": "stream",
          "name": "stdout",
          "text": [
            "(2,)\n",
            "1.0\n",
            "[[2.5131368e-07 9.9999976e-01]\n",
            " [2.8041035e-19 1.0000000e+00]\n",
            " [3.5019457e-07 9.9999964e-01]\n",
            " [9.9989176e-01 1.0822527e-04]]\n",
            "[1 1 1 0]\n"
          ]
        }
      ]
    },
    {
      "cell_type": "code",
      "metadata": {
        "colab": {
          "base_uri": "https://localhost:8080/"
        },
        "id": "2zkKun2LJ8Kz",
        "outputId": "0993ea8a-0688-40af-c591-2ab23fcbdc38"
      },
      "source": [
        "!tar -zcvf outputname.tar.zip /kaggle/working"
      ],
      "execution_count": 36,
      "outputs": [
        {
          "output_type": "stream",
          "name": "stdout",
          "text": [
            "tar: Removing leading `/' from member names\n",
            "tar: /kaggle/working: Cannot stat: No such file or directory\n",
            "tar: Exiting with failure status due to previous errors\n"
          ]
        }
      ]
    },
    {
      "cell_type": "code",
      "metadata": {
        "id": "x392t-4iKBdf"
      },
      "source": [
        "df = pd.DataFrame(predictions, columns = ['Negative','Positive'])"
      ],
      "execution_count": 37,
      "outputs": []
    },
    {
      "cell_type": "code",
      "metadata": {
        "id": "e6bLKmLrKD3H"
      },
      "source": [
        "a = df.iloc[:,0] < df.iloc[:,1] \n",
        "a = a*1"
      ],
      "execution_count": 38,
      "outputs": []
    },
    {
      "cell_type": "code",
      "metadata": {
        "id": "GbbXvn7yKFsg"
      },
      "source": [
        "from sklearn.metrics import roc_curve\n",
        "from sklearn.metrics import roc_auc_score\n",
        "from matplotlib import pyplot"
      ],
      "execution_count": 39,
      "outputs": []
    },
    {
      "cell_type": "code",
      "metadata": {
        "colab": {
          "base_uri": "https://localhost:8080/"
        },
        "id": "AYE-DHNoKHvy",
        "outputId": "cd0af882-4b12-430d-f2a6-c365f49c9008"
      },
      "source": [
        "a.to_numpy()"
      ],
      "execution_count": 40,
      "outputs": [
        {
          "output_type": "execute_result",
          "data": {
            "text/plain": [
              "array([1, 1, 1, 0, 1, 1, 1, 1, 0, 1, 1, 1, 1, 0, 0, 1, 1, 1, 1, 1, 1, 1,\n",
              "       1, 1, 1, 1, 1, 1, 1, 1, 0, 1, 1, 1, 1, 1, 1, 1, 1, 1, 1, 1, 1, 1,\n",
              "       1, 1, 1, 1, 1, 1, 1])"
            ]
          },
          "metadata": {},
          "execution_count": 40
        }
      ]
    },
    {
      "cell_type": "code",
      "metadata": {
        "colab": {
          "base_uri": "https://localhost:8080/"
        },
        "id": "LulmJUqtKJv_",
        "outputId": "694a9715-7830-47a0-9736-81cc6a2831da"
      },
      "source": [
        "y_test"
      ],
      "execution_count": 41,
      "outputs": [
        {
          "output_type": "execute_result",
          "data": {
            "text/plain": [
              "array([1, 1, 1, 0, 1, 1, 1, 1, 0, 1, 1, 1, 1, 1, 0, 1, 1, 1, 1, 1, 1, 1,\n",
              "       1, 1, 1, 1, 1, 1, 1, 1, 0, 1, 1, 1, 1, 1, 1, 1, 1, 1, 1, 1, 1, 1,\n",
              "       1, 1, 1, 1, 1, 1, 1])"
            ]
          },
          "metadata": {},
          "execution_count": 41
        }
      ]
    },
    {
      "cell_type": "code",
      "metadata": {
        "colab": {
          "base_uri": "https://localhost:8080/",
          "height": 297
        },
        "id": "QwewHdAjKLp-",
        "outputId": "55f40559-1798-4b45-ccea-9ea08857f4b4"
      },
      "source": [
        "# summarize score\n",
        "print('Model: auROC=%.3f' % (roc_auc_score(y_test, a)))\n",
        "# calculate roc curves\n",
        "lr_fpr, lr_tpr, _ = roc_curve(y_test, a)\n",
        "# plot the roc curve for the model\n",
        "pyplot.plot(lr_fpr, lr_tpr, marker='.', label='Model')\n",
        "# axis labels\n",
        "pyplot.xlabel('False Positive Rate')\n",
        "pyplot.ylabel('True Positive Rate')\n",
        "# show the legend\n",
        "pyplot.legend()\n",
        "# show the plot\n",
        "pyplot.show()"
      ],
      "execution_count": 42,
      "outputs": [
        {
          "output_type": "stream",
          "name": "stdout",
          "text": [
            "Model: auROC=0.989\n"
          ]
        },
        {
          "output_type": "display_data",
          "data": {
            "image/png": "[encoded data removed]",
            "text/plain": [
              "<Figure size 432x288 with 1 Axes>"
            ]
          },
          "metadata": {
            "needs_background": "light"
          }
        }
      ]
    }
  ]
}